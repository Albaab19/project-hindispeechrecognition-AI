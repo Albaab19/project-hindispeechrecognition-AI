{
 "cells": [
  {
   "cell_type": "code",
   "execution_count": 1,
   "id": "a4098950",
   "metadata": {},
   "outputs": [],
   "source": [
    "import os\n",
    "import numpy as np\n",
    "import matplotlib.pyplot as plt\n",
    "from sklearn.model_selection import train_test_split\n",
    "from keras.preprocessing.image import ImageDataGenerator \n",
    "from tensorflow.keras.utils import load_img\n",
    "from tensorflow.keras.utils import img_to_array\n",
    "from keras.models import Sequential\n",
    "from keras.layers import Conv2D, MaxPooling2D, Dense, Flatten, Dropout\n",
    "from keras.optimizers import Adam\n",
    "from keras.callbacks import ModelCheckpoint"
   ]
  },
  {
   "cell_type": "code",
   "execution_count": 2,
   "id": "e172f526",
   "metadata": {},
   "outputs": [],
   "source": [
    "# Step 1: Preprocess the dataset\n",
    "data_dir = \"Ravdess_specs_proc_new/\"\n",
    "emotions_to_consider = [\"happy\", \"sad\", \"angry\", \"fearful\"]\n",
    "\n",
    "# Load images and labels\n",
    "images = []\n",
    "labels = []"
   ]
  },
  {
   "cell_type": "code",
   "execution_count": 3,
   "id": "c4a61798",
   "metadata": {},
   "outputs": [],
   "source": [
    "for emotion in emotions_to_consider:\n",
    "    emotion_dir = os.path.join(data_dir, emotion)\n",
    "    for img_name in os.listdir(emotion_dir):\n",
    "        img = load_img(os.path.join(emotion_dir, img_name), target_size=(224, 224))\n",
    "        img_array = img_to_array(img)\n",
    "        images.append(img_array)\n",
    "        labels.append(emotion)"
   ]
  },
  {
   "cell_type": "code",
   "execution_count": 4,
   "id": "96b80f3b",
   "metadata": {},
   "outputs": [],
   "source": [
    "# Convert to numpy arrays and normalize\n",
    "images = np.array(images) / 255.0\n",
    "labels = np.array(labels)\n",
    "\n",
    "# Encode labels\n",
    "label_to_index = {label: idx for idx, label in enumerate(emotions_to_consider)}\n",
    "index_to_label = {idx: label for label, idx in label_to_index.items()}\n",
    "labels = np.array([label_to_index[label] for label in labels])"
   ]
  },
  {
   "cell_type": "code",
   "execution_count": 5,
   "id": "58a6333c",
   "metadata": {},
   "outputs": [],
   "source": [
    "# Split into train and test sets\n",
    "X_train, X_test, y_train, y_test = train_test_split(images, labels, test_size=0.2, random_state=42)\n",
    "\n"
   ]
  },
  {
   "cell_type": "code",
   "execution_count": 6,
   "id": "f4a4ba60",
   "metadata": {},
   "outputs": [
    {
     "name": "stderr",
     "output_type": "stream",
     "text": [
      "C:\\Users\\admin\\anaconda3\\lib\\site-packages\\keras\\optimizers\\optimizer_v2\\adam.py:114: UserWarning: The `lr` argument is deprecated, use `learning_rate` instead.\n",
      "  super().__init__(name, **kwargs)\n"
     ]
    }
   ],
   "source": [
    "# Step 2: Build the VGGNet model\n",
    "model = Sequential([\n",
    "    Conv2D(64, (3, 3), activation='relu', padding='same', input_shape=(224, 224, 3)),\n",
    "    Conv2D(64, (3, 3), activation='relu', padding='same'),\n",
    "    MaxPooling2D((2, 2)),\n",
    "    \n",
    "    Conv2D(128, (3, 3), activation='relu', padding='same'),\n",
    "    Conv2D(128, (3, 3), activation='relu', padding='same'),\n",
    "    MaxPooling2D((2, 2)),\n",
    "    \n",
    "    Conv2D(256, (3, 3), activation='relu', padding='same'),\n",
    "    Conv2D(256, (3, 3), activation='relu', padding='same'),\n",
    "    MaxPooling2D((2, 2)),\n",
    "    \n",
    "    Conv2D(512, (3, 3), activation='relu', padding='same'),\n",
    "    Conv2D(512, (3, 3), activation='relu', padding='same'),\n",
    "    MaxPooling2D((2, 2)),\n",
    "    \n",
    "    Flatten(),\n",
    "    Dense(4096, activation='relu'),\n",
    "    Dropout(0.5),\n",
    "    Dense(4096, activation='relu'),\n",
    "    Dropout(0.5),\n",
    "    Dense(4, activation='softmax')\n",
    "])\n",
    "\n",
    "# Compile the model\n",
    "model.compile(optimizer=Adam(lr=0.0001), loss='sparse_categorical_crossentropy', metrics=['accuracy'])\n"
   ]
  },
  {
   "cell_type": "code",
   "execution_count": 7,
   "id": "decfa631",
   "metadata": {},
   "outputs": [
    {
     "name": "stdout",
     "output_type": "stream",
     "text": [
      "Model: \"sequential\"\n",
      "_________________________________________________________________\n",
      " Layer (type)                Output Shape              Param #   \n",
      "=================================================================\n",
      " conv2d (Conv2D)             (None, 224, 224, 64)      1792      \n",
      "                                                                 \n",
      " conv2d_1 (Conv2D)           (None, 224, 224, 64)      36928     \n",
      "                                                                 \n",
      " max_pooling2d (MaxPooling2D  (None, 112, 112, 64)     0         \n",
      " )                                                               \n",
      "                                                                 \n",
      " conv2d_2 (Conv2D)           (None, 112, 112, 128)     73856     \n",
      "                                                                 \n",
      " conv2d_3 (Conv2D)           (None, 112, 112, 128)     147584    \n",
      "                                                                 \n",
      " max_pooling2d_1 (MaxPooling  (None, 56, 56, 128)      0         \n",
      " 2D)                                                             \n",
      "                                                                 \n",
      " conv2d_4 (Conv2D)           (None, 56, 56, 256)       295168    \n",
      "                                                                 \n",
      " conv2d_5 (Conv2D)           (None, 56, 56, 256)       590080    \n",
      "                                                                 \n",
      " max_pooling2d_2 (MaxPooling  (None, 28, 28, 256)      0         \n",
      " 2D)                                                             \n",
      "                                                                 \n",
      " conv2d_6 (Conv2D)           (None, 28, 28, 512)       1180160   \n",
      "                                                                 \n",
      " conv2d_7 (Conv2D)           (None, 28, 28, 512)       2359808   \n",
      "                                                                 \n",
      " max_pooling2d_3 (MaxPooling  (None, 14, 14, 512)      0         \n",
      " 2D)                                                             \n",
      "                                                                 \n",
      " flatten (Flatten)           (None, 100352)            0         \n",
      "                                                                 \n",
      " dense (Dense)               (None, 4096)              411045888 \n",
      "                                                                 \n",
      " dropout (Dropout)           (None, 4096)              0         \n",
      "                                                                 \n",
      " dense_1 (Dense)             (None, 4096)              16781312  \n",
      "                                                                 \n",
      " dropout_1 (Dropout)         (None, 4096)              0         \n",
      "                                                                 \n",
      " dense_2 (Dense)             (None, 4)                 16388     \n",
      "                                                                 \n",
      "=================================================================\n",
      "Total params: 432,528,964\n",
      "Trainable params: 432,528,964\n",
      "Non-trainable params: 0\n",
      "_________________________________________________________________\n"
     ]
    }
   ],
   "source": [
    "model.summary()"
   ]
  },
  {
   "cell_type": "code",
   "execution_count": 8,
   "id": "8a88b4e1",
   "metadata": {},
   "outputs": [],
   "source": [
    "# Step 3: Train the model\n",
    "# Data augmentation\n",
    "train_datagen = ImageDataGenerator(\n",
    "    rotation_range=10,\n",
    "    width_shift_range=0.1,\n",
    "    height_shift_range=0.1,\n",
    "    shear_range=0.1,\n",
    "    zoom_range=0.1,\n",
    "    horizontal_flip=True,\n",
    "    fill_mode='nearest'\n",
    ")\n",
    "\n",
    "batch_size = 32\n",
    "epochs = 50"
   ]
  },
  {
   "cell_type": "code",
   "execution_count": 9,
   "id": "eee00af9",
   "metadata": {},
   "outputs": [
    {
     "name": "stdout",
     "output_type": "stream",
     "text": [
      "Epoch 1/50\n",
      "19/19 [==============================] - 258s 13s/step - loss: 1.3857 - accuracy: 0.2560 - val_loss: 1.3969 - val_accuracy: 0.2338\n",
      "Epoch 2/50\n",
      "19/19 [==============================] - 245s 13s/step - loss: 1.3875 - accuracy: 0.2543 - val_loss: 1.3871 - val_accuracy: 0.2338\n",
      "Epoch 3/50\n",
      "19/19 [==============================] - 247s 13s/step - loss: 1.3846 - accuracy: 0.2543 - val_loss: 1.3854 - val_accuracy: 0.2338\n",
      "Epoch 4/50\n",
      "19/19 [==============================] - 242s 13s/step - loss: 1.3843 - accuracy: 0.2526 - val_loss: 1.3829 - val_accuracy: 0.2792\n",
      "Epoch 5/50\n",
      "19/19 [==============================] - 248s 13s/step - loss: 1.3760 - accuracy: 0.3041 - val_loss: 1.3796 - val_accuracy: 0.2273\n",
      "Epoch 6/50\n",
      "19/19 [==============================] - 241s 13s/step - loss: 1.3487 - accuracy: 0.3385 - val_loss: 1.3428 - val_accuracy: 0.3442\n",
      "Epoch 7/50\n",
      "19/19 [==============================] - 216s 11s/step - loss: 1.2751 - accuracy: 0.3918 - val_loss: 1.2432 - val_accuracy: 0.3766\n",
      "Epoch 8/50\n",
      "19/19 [==============================] - 166s 9s/step - loss: 1.2610 - accuracy: 0.4261 - val_loss: 1.2640 - val_accuracy: 0.4286\n",
      "Epoch 9/50\n",
      "19/19 [==============================] - 213s 11s/step - loss: 1.2542 - accuracy: 0.4055 - val_loss: 1.2365 - val_accuracy: 0.4221\n",
      "Epoch 10/50\n",
      "19/19 [==============================] - 210s 11s/step - loss: 1.2330 - accuracy: 0.4588 - val_loss: 1.1817 - val_accuracy: 0.4545\n",
      "Epoch 11/50\n",
      "19/19 [==============================] - 211s 11s/step - loss: 1.2194 - accuracy: 0.4416 - val_loss: 1.1527 - val_accuracy: 0.5065\n",
      "Epoch 12/50\n",
      "19/19 [==============================] - 166s 9s/step - loss: 1.1857 - accuracy: 0.4759 - val_loss: 1.1831 - val_accuracy: 0.4481\n",
      "Epoch 13/50\n",
      "19/19 [==============================] - 169s 9s/step - loss: 1.1819 - accuracy: 0.4622 - val_loss: 1.1960 - val_accuracy: 0.4610\n",
      "Epoch 14/50\n",
      "19/19 [==============================] - 213s 11s/step - loss: 1.1446 - accuracy: 0.4777 - val_loss: 1.1406 - val_accuracy: 0.4740\n",
      "Epoch 15/50\n",
      "19/19 [==============================] - 212s 11s/step - loss: 1.1428 - accuracy: 0.4914 - val_loss: 1.1161 - val_accuracy: 0.5195\n",
      "Epoch 16/50\n",
      "19/19 [==============================] - 211s 11s/step - loss: 1.1505 - accuracy: 0.4983 - val_loss: 1.1083 - val_accuracy: 0.5130\n",
      "Epoch 17/50\n",
      "19/19 [==============================] - 166s 9s/step - loss: 1.1720 - accuracy: 0.4708 - val_loss: 1.1107 - val_accuracy: 0.5455\n",
      "Epoch 18/50\n",
      "19/19 [==============================] - 167s 9s/step - loss: 1.1339 - accuracy: 0.5155 - val_loss: 1.2100 - val_accuracy: 0.4351\n",
      "Epoch 19/50\n",
      "19/19 [==============================] - 167s 9s/step - loss: 1.1085 - accuracy: 0.4897 - val_loss: 1.1245 - val_accuracy: 0.4481\n",
      "Epoch 20/50\n",
      "19/19 [==============================] - 215s 11s/step - loss: 1.1087 - accuracy: 0.5103 - val_loss: 1.0340 - val_accuracy: 0.5390\n",
      "Epoch 21/50\n",
      "19/19 [==============================] - 210s 11s/step - loss: 1.0621 - accuracy: 0.5533 - val_loss: 1.0178 - val_accuracy: 0.5779\n",
      "Epoch 22/50\n",
      "19/19 [==============================] - 166s 9s/step - loss: 1.0968 - accuracy: 0.5395 - val_loss: 1.0374 - val_accuracy: 0.5779\n",
      "Epoch 23/50\n",
      "19/19 [==============================] - 167s 9s/step - loss: 1.0582 - accuracy: 0.5361 - val_loss: 1.0241 - val_accuracy: 0.5909\n",
      "Epoch 24/50\n",
      "19/19 [==============================] - 167s 9s/step - loss: 1.0970 - accuracy: 0.5172 - val_loss: 1.0969 - val_accuracy: 0.5325\n",
      "Epoch 25/50\n",
      "19/19 [==============================] - 173s 9s/step - loss: 1.0911 - accuracy: 0.5329 - val_loss: 1.1045 - val_accuracy: 0.4740\n",
      "Epoch 26/50\n",
      "19/19 [==============================] - 219s 12s/step - loss: 1.0573 - accuracy: 0.5395 - val_loss: 0.9976 - val_accuracy: 0.6234\n",
      "Epoch 27/50\n",
      "19/19 [==============================] - 166s 9s/step - loss: 1.0330 - accuracy: 0.5704 - val_loss: 1.0215 - val_accuracy: 0.5325\n",
      "Epoch 28/50\n",
      "19/19 [==============================] - 212s 11s/step - loss: 0.9899 - accuracy: 0.5773 - val_loss: 0.9852 - val_accuracy: 0.6299\n",
      "Epoch 29/50\n",
      "19/19 [==============================] - 211s 11s/step - loss: 0.9803 - accuracy: 0.5739 - val_loss: 0.9118 - val_accuracy: 0.6169\n",
      "Epoch 30/50\n",
      "19/19 [==============================] - 165s 9s/step - loss: 0.9887 - accuracy: 0.5687 - val_loss: 0.9623 - val_accuracy: 0.5974\n",
      "Epoch 31/50\n",
      "19/19 [==============================] - 213s 11s/step - loss: 0.9655 - accuracy: 0.5722 - val_loss: 0.9078 - val_accuracy: 0.6364\n",
      "Epoch 32/50\n",
      "19/19 [==============================] - 211s 11s/step - loss: 0.9509 - accuracy: 0.5636 - val_loss: 0.8835 - val_accuracy: 0.6429\n",
      "Epoch 33/50\n",
      "19/19 [==============================] - 166s 9s/step - loss: 0.9369 - accuracy: 0.6048 - val_loss: 0.9422 - val_accuracy: 0.6169\n",
      "Epoch 34/50\n",
      "19/19 [==============================] - 165s 9s/step - loss: 0.9037 - accuracy: 0.6254 - val_loss: 0.9149 - val_accuracy: 0.6169\n",
      "Epoch 35/50\n",
      "19/19 [==============================] - 168s 9s/step - loss: 0.8809 - accuracy: 0.6323 - val_loss: 0.8903 - val_accuracy: 0.6429\n",
      "Epoch 36/50\n",
      "19/19 [==============================] - 167s 9s/step - loss: 0.8620 - accuracy: 0.6460 - val_loss: 0.9105 - val_accuracy: 0.6558\n",
      "Epoch 37/50\n",
      "19/19 [==============================] - 167s 9s/step - loss: 0.8552 - accuracy: 0.6357 - val_loss: 0.9648 - val_accuracy: 0.6039\n",
      "Epoch 38/50\n",
      "19/19 [==============================] - 170s 9s/step - loss: 0.9205 - accuracy: 0.5945 - val_loss: 0.8943 - val_accuracy: 0.6429\n",
      "Epoch 39/50\n",
      "19/19 [==============================] - 212s 11s/step - loss: 0.8470 - accuracy: 0.6495 - val_loss: 0.8627 - val_accuracy: 0.6753\n",
      "Epoch 40/50\n",
      "19/19 [==============================] - 165s 9s/step - loss: 0.8375 - accuracy: 0.6667 - val_loss: 0.9059 - val_accuracy: 0.6494\n",
      "Epoch 41/50\n",
      "19/19 [==============================] - 167s 9s/step - loss: 0.8164 - accuracy: 0.6478 - val_loss: 0.9159 - val_accuracy: 0.6429\n",
      "Epoch 42/50\n",
      "19/19 [==============================] - 221s 12s/step - loss: 0.8166 - accuracy: 0.6628 - val_loss: 0.8588 - val_accuracy: 0.6429\n",
      "Epoch 43/50\n",
      "19/19 [==============================] - 210s 11s/step - loss: 0.8117 - accuracy: 0.6598 - val_loss: 0.8325 - val_accuracy: 0.6299\n",
      "Epoch 44/50\n",
      "19/19 [==============================] - 164s 9s/step - loss: 0.7721 - accuracy: 0.6753 - val_loss: 0.8823 - val_accuracy: 0.6494\n",
      "Epoch 45/50\n",
      "19/19 [==============================] - 213s 12s/step - loss: 0.7683 - accuracy: 0.6787 - val_loss: 0.8268 - val_accuracy: 0.6688\n",
      "Epoch 46/50\n",
      "19/19 [==============================] - 165s 9s/step - loss: 0.7420 - accuracy: 0.6924 - val_loss: 0.8617 - val_accuracy: 0.6364\n",
      "Epoch 47/50\n",
      "19/19 [==============================] - 174s 9s/step - loss: 0.7649 - accuracy: 0.6924 - val_loss: 0.8429 - val_accuracy: 0.6234\n",
      "Epoch 48/50\n",
      "19/19 [==============================] - 219s 12s/step - loss: 0.7773 - accuracy: 0.7007 - val_loss: 0.8048 - val_accuracy: 0.6364\n",
      "Epoch 49/50\n",
      "19/19 [==============================] - 166s 9s/step - loss: 0.6991 - accuracy: 0.7131 - val_loss: 0.9672 - val_accuracy: 0.6494\n",
      "Epoch 50/50\n",
      "19/19 [==============================] - 167s 9s/step - loss: 0.7346 - accuracy: 0.7148 - val_loss: 0.8251 - val_accuracy: 0.6688\n"
     ]
    }
   ],
   "source": [
    "# Train the model\n",
    "checkpoint = ModelCheckpoint(\"V:/modelVGG_Rav_procN.h5\", save_best_only=True, monitor='val_loss', mode='min')\n",
    "history = model.fit(\n",
    "    train_datagen.flow(X_train, y_train, batch_size=batch_size),\n",
    "    validation_data=(X_test, y_test),\n",
    "    steps_per_epoch=len(X_train) // batch_size,\n",
    "    epochs=epochs,\n",
    "    callbacks=[checkpoint]\n",
    ")"
   ]
  },
  {
   "cell_type": "code",
   "execution_count": 10,
   "id": "df42b23a",
   "metadata": {},
   "outputs": [
    {
     "data": {
      "image/png": "[encoded data removed]",
      "text/plain": [
       "<Figure size 864x288 with 2 Axes>"
      ]
     },
     "metadata": {
      "needs_background": "light"
     },
     "output_type": "display_data"
    }
   ],
   "source": [
    "# Step 4: Evaluate the model\n",
    "# Plot the accuracy and loss curves\n",
    "plt.figure(figsize=(12, 4))\n",
    "plt.subplot(1, 2, 1)\n",
    "plt.plot(history.history['accuracy'], label='train_accuracy')\n",
    "plt.plot(history.history['val_accuracy'], label='val_accuracy')\n",
    "plt.xlabel('Epochs')\n",
    "plt.ylabel('Accuracy')\n",
    "plt.legend()\n",
    "\n",
    "plt.subplot(1, 2, 2)\n",
    "plt.plot(history.history['loss'], label='train_loss')\n",
    "plt.plot(history.history['val_loss'], label='val_loss')\n",
    "plt.xlabel('Epochs')\n",
    "plt.ylabel('Loss')\n",
    "plt.legend()\n",
    "\n",
    "plt.show()"
   ]
  },
  {
   "cell_type": "code",
   "execution_count": 11,
   "id": "28b5fca7",
   "metadata": {},
   "outputs": [
    {
     "name": "stdout",
     "output_type": "stream",
     "text": [
      "5/5 [==============================] - 9s 2s/step - loss: 0.8048 - accuracy: 0.6364\n",
      "Test accuracy: 0.64\n",
      "Test loss: 0.80\n"
     ]
    }
   ],
   "source": [
    "# Evaluate the best model on the test set\n",
    "model.load_weights(\"V:/modelVGG_Rav_procN.h5\")\n",
    "test_loss, test_accuracy = model.evaluate(X_test, y_test)\n",
    "print(f\"Test accuracy: {test_accuracy:.2f}\")\n",
    "print(f\"Test loss: {test_loss:.2f}\")"
   ]
  },
  {
   "cell_type": "code",
   "execution_count": 12,
   "id": "ccc9f200",
   "metadata": {},
   "outputs": [
    {
     "name": "stdout",
     "output_type": "stream",
     "text": [
      "5/5 [==============================] - 9s 2s/step\n",
      "Confusion Matrix:\n",
      "[[21  5  4  5]\n",
      " [12 22  2  9]\n",
      " [ 6  2 27  1]\n",
      " [ 3  5  2 28]]\n",
      "\n",
      "Classification Report:\n",
      "              precision    recall  f1-score   support\n",
      "\n",
      "       happy       0.50      0.60      0.55        35\n",
      "         sad       0.65      0.49      0.56        45\n",
      "       angry       0.77      0.75      0.76        36\n",
      "     fearful       0.65      0.74      0.69        38\n",
      "\n",
      "    accuracy                           0.64       154\n",
      "   macro avg       0.64      0.64      0.64       154\n",
      "weighted avg       0.64      0.64      0.64       154\n",
      "\n"
     ]
    }
   ],
   "source": [
    "from sklearn.metrics import confusion_matrix, classification_report\n",
    "\n",
    "# Get the predicted labels\n",
    "y_pred = model.predict(X_test)\n",
    "y_pred_labels = np.argmax(y_pred, axis=1)\n",
    "\n",
    "# Create a confusion matrix\n",
    "cm = confusion_matrix(y_test, y_pred_labels)\n",
    "\n",
    "# Display the confusion matrix\n",
    "print(\"Confusion Matrix:\")\n",
    "print(cm)\n",
    "\n",
    "# Calculate per-emotion accuracy and other metrics\n",
    "report = classification_report(y_test, y_pred_labels, target_names=emotions_to_consider, digits=2)\n",
    "print(\"\\nClassification Report:\")\n",
    "print(report)"
   ]
  },
  {
   "cell_type": "code",
   "execution_count": 13,
   "id": "dd89998c",
   "metadata": {},
   "outputs": [
    {
     "data": {
      "image/png": "[encoded data removed]",
      "text/plain": [
       "<Figure size 720x504 with 2 Axes>"
      ]
     },
     "metadata": {
      "needs_background": "light"
     },
     "output_type": "display_data"
    }
   ],
   "source": [
    "import seaborn as sns\n",
    "\n",
    "# Create a colorful confusion matrix with labels\n",
    "plt.figure(figsize=(10, 7))\n",
    "sns.set(font_scale=1.4)  # Set font scale for better readability\n",
    "sns.heatmap(cm, annot=True, cmap='Blues', fmt='g', xticklabels=emotions_to_consider, yticklabels=emotions_to_consider)\n",
    "\n",
    "plt.xlabel('Predicted')\n",
    "plt.ylabel('True')\n",
    "plt.title('Confusion Matrix')\n",
    "plt.show()"
   ]
  },
  {
   "cell_type": "code",
   "execution_count": null,
   "id": "242c59d6",
   "metadata": {},
   "outputs": [],
   "source": []
  }
 ],
 "metadata": {
  "kernelspec": {
   "display_name": "Python 3 (ipykernel)",
   "language": "python",
   "name": "python3"
  },
  "language_info": {
   "codemirror_mode": {
    "name": "ipython",
    "version": 3
   },
   "file_extension": ".py",
   "mimetype": "text/x-python",
   "name": "python",
   "nbconvert_exporter": "python",
   "pygments_lexer": "ipython3",
   "version": "3.9.12"
  }
 },
 "nbformat": 4,
 "nbformat_minor": 5
}
